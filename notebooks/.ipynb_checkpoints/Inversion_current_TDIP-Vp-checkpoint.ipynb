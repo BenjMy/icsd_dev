{
 "cells": [
  {
   "cell_type": "markdown",
   "id": "486d829e",
   "metadata": {},
   "source": [
    "# Inversion of primary potentials"
   ]
  },
  {
   "cell_type": "code",
   "execution_count": 4,
   "id": "2a03c6e0",
   "metadata": {},
   "outputs": [],
   "source": [
    "import matplotlib.pyplot as plt\n",
    "from icsd3d_class import iCSD3d as i3d\n",
    "from plotters.mpl_plot import showObs2d\n",
    "from scipy.special import gamma\n",
    "from scipy.optimize import least_squares\n",
    "import numpy as np"
   ]
  },
  {
   "cell_type": "markdown",
   "id": "c0b451a3",
   "metadata": {},
   "source": [
    "### Define inversion parameters\n",
    "We start with an unconstrainsted inversion (no initial guess, no prior model)"
   ]
  },
  {
   "cell_type": "code",
   "execution_count": 8,
   "id": "3707a8de",
   "metadata": {},
   "outputs": [],
   "source": [
    "icsdPath = './EGU_TDIP/' # schemeMALM_full test\n",
    "\n",
    "icsd=i3d(dirName=icsdPath)   \n",
    "icsd.logTrans=False\n",
    "\n",
    "icsd.regMesh='strc'\n",
    "icsd.type='2d'\n",
    "icsd.obs_err='sqrt' # sqrt choose between constant weight and w = 1/sqrt(abs(obs))\n",
    "icsd.wr=1 # weight regularization\n",
    "icsd.alphaSxy=False # anisotropic model smoothing coeff\n",
    "icsd.x0_prior=False # initial model\n",
    "icsd.x0_ini_guess=False # initial guess\n",
    "icsd.method_m0='F1'"
   ]
  },
  {
   "cell_type": "markdown",
   "id": "6e6b5890",
   "metadata": {},
   "source": [
    "### Create the survey"
   ]
  },
  {
   "cell_type": "code",
   "execution_count": 9,
   "id": "8dcc0d87",
   "metadata": {},
   "outputs": [
    {
     "name": "stdout",
     "output_type": "stream",
     "text": [
      "no existing survey\n",
      "initiation ICSD\n",
      "(17250,)\n",
      "************************************\n",
      "log transformation: False\n",
      "obs_err: sqrt\n",
      "./EGU_TDIP/\n"
     ]
    }
   ],
   "source": [
    "vp = icsd.createSurvey(fname_obs='Obs_raw.txt',fname_sim='VRTe_SIM_Vp.txt')"
   ]
  },
  {
   "cell_type": "markdown",
   "id": "69ea2a68",
   "metadata": {},
   "source": [
    "### Show results"
   ]
  },
  {
   "cell_type": "code",
   "execution_count": null,
   "id": "ad736058",
   "metadata": {},
   "outputs": [],
   "source": [
    "fig, ax = plt.subplots()\n",
    "m0 = icsd.estimateM0(method_m0='F1',show=True, ax=ax)\n",
    "plt.show()\n",
    "\n",
    "# icsd.clim=[0,0.1]\n",
    "# icsd.run_single()\n",
    "# icsd.alphax0=1\n",
    "\n",
    "sol= icsd.invert(wr=100)\n",
    "#sol= icsd.invert(pareto=True,pareto_MinErr=0.01, pareto_MaxErr=100, pareto_nSteps=10)\n",
    "\n",
    "fig, ax = plt.subplots()\n",
    "icsd.showResults(ax=ax)\n",
    "plt.savefig(icsdPath+'Obs_raw.png', dpi=400)\n",
    "plt.show()"
   ]
  }
 ],
 "metadata": {
  "kernelspec": {
   "display_name": "Python 3",
   "language": "python",
   "name": "python3"
  },
  "language_info": {
   "codemirror_mode": {
    "name": "ipython",
    "version": 3
   },
   "file_extension": ".py",
   "mimetype": "text/x-python",
   "name": "python",
   "nbconvert_exporter": "python",
   "pygments_lexer": "ipython3",
   "version": "3.7.10"
  }
 },
 "nbformat": 4,
 "nbformat_minor": 5
}
